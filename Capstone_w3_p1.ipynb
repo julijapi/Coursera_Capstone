{
 "cells": [
  {
   "cell_type": "markdown",
   "metadata": {},
   "source": [
    "Hello! This is notebook for \"Week 3 Assingment: Segmenting and Clustering Neighborhoods in Toronto\" . All 3 parts of assingment for week 3  are in this notebook! :) Thank you!\n"
   ]
  },
  {
   "cell_type": "markdown",
   "metadata": {},
   "source": [
    "## Part 1"
   ]
  },
  {
   "cell_type": "markdown",
   "metadata": {},
   "source": [
    "### Install libraries"
   ]
  },
  {
   "cell_type": "code",
   "execution_count": 2,
   "metadata": {},
   "outputs": [
    {
     "name": "stdout",
     "output_type": "stream",
     "text": [
      "Requirement already up-to-date: pip in /Users/julija/.conda/envs/Coursera_Capstone/lib/python3.8/site-packages (20.1.1)\n",
      "Requirement already satisfied: geopy in /Users/julija/.conda/envs/Coursera_Capstone/lib/python3.8/site-packages (1.22.0)\n",
      "Requirement already satisfied: geographiclib<2,>=1.49 in /Users/julija/.conda/envs/Coursera_Capstone/lib/python3.8/site-packages (from geopy) (1.50)\n",
      "Requirement already satisfied: matplotlib in /Users/julija/.conda/envs/Coursera_Capstone/lib/python3.8/site-packages (3.2.1)\n",
      "Requirement already satisfied: kiwisolver>=1.0.1 in /Users/julija/.conda/envs/Coursera_Capstone/lib/python3.8/site-packages (from matplotlib) (1.2.0)\n",
      "Requirement already satisfied: python-dateutil>=2.1 in /Users/julija/.conda/envs/Coursera_Capstone/lib/python3.8/site-packages (from matplotlib) (2.8.1)\n",
      "Requirement already satisfied: pyparsing!=2.0.4,!=2.1.2,!=2.1.6,>=2.0.1 in /Users/julija/.conda/envs/Coursera_Capstone/lib/python3.8/site-packages (from matplotlib) (2.4.7)\n",
      "Requirement already satisfied: numpy>=1.11 in /Users/julija/.conda/envs/Coursera_Capstone/lib/python3.8/site-packages (from matplotlib) (1.18.5)\n",
      "Requirement already satisfied: cycler>=0.10 in /Users/julija/.conda/envs/Coursera_Capstone/lib/python3.8/site-packages (from matplotlib) (0.10.0)\n",
      "Requirement already satisfied: six>=1.5 in /Users/julija/.conda/envs/Coursera_Capstone/lib/python3.8/site-packages (from python-dateutil>=2.1->matplotlib) (1.15.0)\n",
      "Requirement already satisfied: sklearn in /Users/julija/.conda/envs/Coursera_Capstone/lib/python3.8/site-packages (0.0)\n",
      "Requirement already satisfied: scikit-learn in /Users/julija/.conda/envs/Coursera_Capstone/lib/python3.8/site-packages (from sklearn) (0.23.1)\n",
      "Requirement already satisfied: threadpoolctl>=2.0.0 in /Users/julija/.conda/envs/Coursera_Capstone/lib/python3.8/site-packages (from scikit-learn->sklearn) (2.1.0)\n",
      "Requirement already satisfied: scipy>=0.19.1 in /Users/julija/.conda/envs/Coursera_Capstone/lib/python3.8/site-packages (from scikit-learn->sklearn) (1.4.1)\n",
      "Requirement already satisfied: numpy>=1.13.3 in /Users/julija/.conda/envs/Coursera_Capstone/lib/python3.8/site-packages (from scikit-learn->sklearn) (1.18.5)\n",
      "Requirement already satisfied: joblib>=0.11 in /Users/julija/.conda/envs/Coursera_Capstone/lib/python3.8/site-packages (from scikit-learn->sklearn) (0.15.1)\n",
      "Requirement already satisfied: folium in /Users/julija/.conda/envs/Coursera_Capstone/lib/python3.8/site-packages (0.11.0)\n",
      "Requirement already satisfied: requests in /Users/julija/.conda/envs/Coursera_Capstone/lib/python3.8/site-packages (from folium) (2.23.0)\n",
      "Requirement already satisfied: jinja2>=2.9 in /Users/julija/.conda/envs/Coursera_Capstone/lib/python3.8/site-packages (from folium) (2.11.2)\n",
      "Requirement already satisfied: numpy in /Users/julija/.conda/envs/Coursera_Capstone/lib/python3.8/site-packages (from folium) (1.18.5)\n",
      "Requirement already satisfied: branca>=0.3.0 in /Users/julija/.conda/envs/Coursera_Capstone/lib/python3.8/site-packages (from folium) (0.4.1)\n",
      "Requirement already satisfied: urllib3!=1.25.0,!=1.25.1,<1.26,>=1.21.1 in /Users/julija/.conda/envs/Coursera_Capstone/lib/python3.8/site-packages (from requests->folium) (1.25.8)\n",
      "Requirement already satisfied: certifi>=2017.4.17 in /Users/julija/.conda/envs/Coursera_Capstone/lib/python3.8/site-packages (from requests->folium) (2020.4.5.1)\n",
      "Requirement already satisfied: idna<3,>=2.5 in /Users/julija/.conda/envs/Coursera_Capstone/lib/python3.8/site-packages (from requests->folium) (2.9)\n",
      "Requirement already satisfied: chardet<4,>=3.0.2 in /Users/julija/.conda/envs/Coursera_Capstone/lib/python3.8/site-packages (from requests->folium) (3.0.4)\n",
      "Requirement already satisfied: MarkupSafe>=0.23 in /Users/julija/.conda/envs/Coursera_Capstone/lib/python3.8/site-packages (from jinja2>=2.9->folium) (1.1.1)\n",
      "Requirement already satisfied: lxml in /Users/julija/.conda/envs/Coursera_Capstone/lib/python3.8/site-packages (4.5.1)\n",
      "Requirement already satisfied: numpy in /Users/julija/.conda/envs/Coursera_Capstone/lib/python3.8/site-packages (1.18.5)\n",
      "Requirement already satisfied: pandas in /Users/julija/.conda/envs/Coursera_Capstone/lib/python3.8/site-packages (1.0.4)\n",
      "Requirement already satisfied: pytz>=2017.2 in /Users/julija/.conda/envs/Coursera_Capstone/lib/python3.8/site-packages (from pandas) (2020.1)\n",
      "Requirement already satisfied: python-dateutil>=2.6.1 in /Users/julija/.conda/envs/Coursera_Capstone/lib/python3.8/site-packages (from pandas) (2.8.1)\n",
      "Requirement already satisfied: numpy>=1.13.3 in /Users/julija/.conda/envs/Coursera_Capstone/lib/python3.8/site-packages (from pandas) (1.18.5)\n",
      "Requirement already satisfied: six>=1.5 in /Users/julija/.conda/envs/Coursera_Capstone/lib/python3.8/site-packages (from python-dateutil>=2.6.1->pandas) (1.15.0)\n",
      "Requirement already satisfied: bs4 in /Users/julija/.conda/envs/Coursera_Capstone/lib/python3.8/site-packages (0.0.1)\n",
      "Requirement already satisfied: beautifulsoup4 in /Users/julija/.conda/envs/Coursera_Capstone/lib/python3.8/site-packages (from bs4) (4.9.1)\n",
      "Requirement already satisfied: soupsieve>1.2 in /Users/julija/.conda/envs/Coursera_Capstone/lib/python3.8/site-packages (from beautifulsoup4->bs4) (2.0.1)\n",
      "Requirement already satisfied: geocoder in /Users/julija/.conda/envs/Coursera_Capstone/lib/python3.8/site-packages (1.38.1)\n",
      "Requirement already satisfied: click in /Users/julija/.conda/envs/Coursera_Capstone/lib/python3.8/site-packages (from geocoder) (7.1.2)\n",
      "Requirement already satisfied: requests in /Users/julija/.conda/envs/Coursera_Capstone/lib/python3.8/site-packages (from geocoder) (2.23.0)\n",
      "Requirement already satisfied: six in /Users/julija/.conda/envs/Coursera_Capstone/lib/python3.8/site-packages (from geocoder) (1.15.0)\n",
      "Requirement already satisfied: ratelim in /Users/julija/.conda/envs/Coursera_Capstone/lib/python3.8/site-packages (from geocoder) (0.1.6)\n",
      "Requirement already satisfied: future in /Users/julija/.conda/envs/Coursera_Capstone/lib/python3.8/site-packages (from geocoder) (0.18.2)\n",
      "Requirement already satisfied: urllib3!=1.25.0,!=1.25.1,<1.26,>=1.21.1 in /Users/julija/.conda/envs/Coursera_Capstone/lib/python3.8/site-packages (from requests->geocoder) (1.25.8)\n",
      "Requirement already satisfied: idna<3,>=2.5 in /Users/julija/.conda/envs/Coursera_Capstone/lib/python3.8/site-packages (from requests->geocoder) (2.9)\n",
      "Requirement already satisfied: certifi>=2017.4.17 in /Users/julija/.conda/envs/Coursera_Capstone/lib/python3.8/site-packages (from requests->geocoder) (2020.4.5.1)\n",
      "Requirement already satisfied: chardet<4,>=3.0.2 in /Users/julija/.conda/envs/Coursera_Capstone/lib/python3.8/site-packages (from requests->geocoder) (3.0.4)\n",
      "Requirement already satisfied: decorator in /Users/julija/.conda/envs/Coursera_Capstone/lib/python3.8/site-packages (from ratelim->geocoder) (4.4.2)\n"
     ]
    }
   ],
   "source": [
    "! pip install --upgrade pip \n",
    "! pip install geopy\n",
    "! pip install matplotlib\n",
    "! pip install sklearn\n",
    "! pip install folium\n",
    "! pip install lxml\n",
    "! pip install numpy\n",
    "! pip install pandas\n",
    "! pip install bs4\n",
    "! pip install  geocoder\n"
   ]
  },
  {
   "cell_type": "code",
   "execution_count": 4,
   "metadata": {},
   "outputs": [
    {
     "name": "stdout",
     "output_type": "stream",
     "text": [
      "Libraries imported.\n"
     ]
    }
   ],
   "source": [
    "import numpy as np \n",
    "import pandas as pd \n",
    "import geopy \n",
    "import requests \n",
    "from bs4 import BeautifulSoup \n",
    "import matplotlib.cm as cm\n",
    "import matplotlib.colors as colors\n",
    "from sklearn.cluster import KMeans\n",
    "import folium \n",
    "import geocoder\n",
    "\n",
    "print('Libraries imported.')"
   ]
  },
  {
   "cell_type": "markdown",
   "metadata": {},
   "source": [
    "### Let's scrap the page "
   ]
  },
  {
   "cell_type": "code",
   "execution_count": 5,
   "metadata": {},
   "outputs": [
    {
     "name": "stdout",
     "output_type": "stream",
     "text": [
      "Page Scrapped.\n"
     ]
    }
   ],
   "source": [
    "URL = \"https://en.wikipedia.org/wiki/List_of_postal_codes_of_Canada:_M\"\n",
    "r = requests.get(URL) \n",
    "  \n",
    "soup = BeautifulSoup(r.content, 'html.parser') \n",
    "table = soup.find('div', attrs = {'id':'container'}) \n",
    "\n",
    "# print(soup.prettify()) \n",
    "print('Page Scrapped.')\n",
    "\n"
   ]
  },
  {
   "cell_type": "code",
   "execution_count": 18,
   "metadata": {},
   "outputs": [],
   "source": [
    "# Collecting the data\n",
    "\n",
    "postalCodes = [];\n",
    "boroughs= [];\n",
    "neighborhoods = [];\n",
    "columnNum = 1;\n",
    "passVal = False\n",
    "\n",
    "for row in soup.find_all('td'):\n",
    "    for cell in row:\n",
    "        if cell.string and cell.string[0].isalpha() and len(cell.string) > 2:\n",
    "            passVal = False\n",
    "            if columnNum == 1:\n",
    "                if passVal == False and cell.string[1].isdigit():\n",
    "                    postalCodes.append(cell.string);   \n",
    "                    columnNum = 2\n",
    "                else:\n",
    "                    continue\n",
    "            elif columnNum == 2 :\n",
    "                if cell.string == 'Not assigned':\n",
    "                    passVal = True\n",
    "                    del postalCodes[-1]\n",
    "                    columnNum = 1\n",
    "                    continue\n",
    "                else:\n",
    "                    boroughs.append(cell.string);      \n",
    "                    columnNum = 3\n",
    "            elif columnNum == 3 :\n",
    "                if cell.string == 'Not assigned\\n':\n",
    "                    neighborhoods.append(boroughs[-1])\n",
    "                else:\n",
    "                    neighborhoods.append(cell.string); \n",
    "                columnNum = 1\n"
   ]
  },
  {
   "cell_type": "code",
   "execution_count": 19,
   "metadata": {},
   "outputs": [
    {
     "data": {
      "text/html": [
       "<div>\n",
       "<style scoped>\n",
       "    .dataframe tbody tr th:only-of-type {\n",
       "        vertical-align: middle;\n",
       "    }\n",
       "\n",
       "    .dataframe tbody tr th {\n",
       "        vertical-align: top;\n",
       "    }\n",
       "\n",
       "    .dataframe thead th {\n",
       "        text-align: right;\n",
       "    }\n",
       "</style>\n",
       "<table border=\"1\" class=\"dataframe\">\n",
       "  <thead>\n",
       "    <tr style=\"text-align: right;\">\n",
       "      <th></th>\n",
       "      <th>PostalCode</th>\n",
       "      <th>Borough</th>\n",
       "      <th>Neighborhood</th>\n",
       "      <th>Latitude</th>\n",
       "      <th>Longitude</th>\n",
       "    </tr>\n",
       "  </thead>\n",
       "  <tbody>\n",
       "  </tbody>\n",
       "</table>\n",
       "</div>"
      ],
      "text/plain": [
       "Empty DataFrame\n",
       "Columns: [PostalCode, Borough, Neighborhood, Latitude, Longitude]\n",
       "Index: []"
      ]
     },
     "execution_count": 19,
     "metadata": {},
     "output_type": "execute_result"
    }
   ],
   "source": [
    "# define the dataframe columns\n",
    "column_names = ['PostalCode', 'Borough', 'Neighborhood', 'Latitude', 'Longitude'] \n",
    "\n",
    "# instantiate the dataframe\n",
    "neighbors = pd.DataFrame(columns=column_names)\n",
    "\n",
    "neighbors"
   ]
  },
  {
   "cell_type": "code",
   "execution_count": null,
   "metadata": {},
   "outputs": [],
   "source": [
    "# initialize your variable to None\n",
    "lat_lng_coords = None\n",
    "\n",
    "for data in range(0, len(postalCodes)-1):\n",
    "    code = postalCodes[data]\n",
    "    borough = boroughs[data]\n",
    "    neighborhood_name = neighborhoods[data]\n",
    "    \n",
    "    g = geocoder.arcgis('{}, Toronto, Ontario'.format(code))\n",
    "    lat_lng_coords = g.latlng\n",
    "\n",
    "    neighbors = neighbors.append({ 'PostalCode': code,\n",
    "                                   'Borough': borough,\n",
    "                                   'Neighborhood': neighborhood_name,\n",
    "                                   'Latitude': lat_lng_coords[0],\n",
    "                                   'Longitude': lat_lng_coords[1]}, ignore_index=True)\n",
    "    \n",
    "neighbors"
   ]
  },
  {
   "cell_type": "code",
   "execution_count": null,
   "metadata": {},
   "outputs": [],
   "source": [
    "print('The dataframe has {} boroughs and {} neighborhoods.'.format(\n",
    "        len(neighbors['Borough'].unique()),\n",
    "        neighbors.shape[0]\n",
    "    )\n",
    ")"
   ]
  },
  {
   "cell_type": "code",
   "execution_count": null,
   "metadata": {},
   "outputs": [],
   "source": [
    " "
   ]
  }
 ],
 "metadata": {
  "kernelspec": {
   "display_name": "Python 3",
   "language": "python",
   "name": "python3"
  },
  "language_info": {
   "codemirror_mode": {
    "name": "ipython",
    "version": 3
   },
   "file_extension": ".py",
   "mimetype": "text/x-python",
   "name": "python",
   "nbconvert_exporter": "python",
   "pygments_lexer": "ipython3",
   "version": "3.8.3"
  }
 },
 "nbformat": 4,
 "nbformat_minor": 4
}
